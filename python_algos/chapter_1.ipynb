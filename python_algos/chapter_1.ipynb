{
 "cells": [
  {
   "cell_type": "code",
   "execution_count": 7,
   "metadata": {},
   "outputs": [
    {
     "name": "stdout",
     "output_type": "stream",
     "text": [
      "19.6 ms ± 120 μs per loop (mean ± std. dev. of 7 runs, 100 loops each)\n"
     ]
    }
   ],
   "source": [
    "%%timeit\n",
    "count = 10**6\n",
    "nums = []\n",
    "\n",
    "for i in range(count):\n",
    "    nums.append(i)\n",
    "\n",
    "nums.reverse()"
   ]
  },
  {
   "cell_type": "code",
   "execution_count": 8,
   "metadata": {},
   "outputs": [
    {
     "name": "stdout",
     "output_type": "stream",
     "text": [
      "631 ms ± 6.76 ms per loop (mean ± std. dev. of 7 runs, 1 loop each)\n"
     ]
    }
   ],
   "source": [
    "%%timeit\n",
    "nums = []\n",
    "\n",
    "for i in range(count):\n",
    "    nums.insert(0, i)"
   ]
  },
  {
   "cell_type": "markdown",
   "metadata": {},
   "source": [
    "### Adjacency Lists and the like"
   ]
  },
  {
   "cell_type": "code",
   "execution_count": 1,
   "metadata": {},
   "outputs": [],
   "source": [
    "# adjacency representation\n",
    "\n",
    "a, b, c, d, e, f, g, h = range(8)\n",
    "\n",
    "N = [\n",
    "    {b, c, d, e, f},    # a\n",
    "    {c, e},             # b\n",
    "    {d},                # c\n",
    "    {e},                # d\n",
    "    {f},                # e\n",
    "    {c, g, h},          # f\n",
    "    {f, h},             # g\n",
    "    {f, g}              # h\n",
    "]"
   ]
  },
  {
   "cell_type": "code",
   "execution_count": 2,
   "metadata": {},
   "outputs": [
    {
     "data": {
      "text/plain": [
       "True"
      ]
     },
     "execution_count": 2,
     "metadata": {},
     "output_type": "execute_result"
    }
   ],
   "source": [
    "b in N[a] # neigbourhood membership"
   ]
  },
  {
   "cell_type": "code",
   "execution_count": 3,
   "metadata": {},
   "outputs": [
    {
     "data": {
      "text/plain": [
       "3"
      ]
     },
     "execution_count": 3,
     "metadata": {},
     "output_type": "execute_result"
    }
   ],
   "source": [
    "len(N[f]) # Degree"
   ]
  },
  {
   "cell_type": "code",
   "execution_count": 4,
   "metadata": {},
   "outputs": [],
   "source": [
    "# adjacency dict with edge weights\n",
    "a, b, c, d, e, f, g, h = range(8)\n",
    "\n",
    "N = [\n",
    "    {b:2, c:1, d:3, e:9, f:4},  # a\n",
    "    {c:4, e:3},                 # b\n",
    "    {d:8},                      # c\n",
    "    {e:7},                      # d\n",
    "    {f:5},                      # e\n",
    "    {c:2, g:2, h:2},            # f\n",
    "    {f:1, h:6},                 # g\n",
    "    {f:9, g:8}                  # h\n",
    "]"
   ]
  },
  {
   "cell_type": "code",
   "execution_count": 5,
   "metadata": {},
   "outputs": [
    {
     "data": {
      "text/plain": [
       "True"
      ]
     },
     "execution_count": 5,
     "metadata": {},
     "output_type": "execute_result"
    }
   ],
   "source": [
    "b in N[a] # Neigbourhood membership"
   ]
  },
  {
   "cell_type": "code",
   "execution_count": 6,
   "metadata": {},
   "outputs": [
    {
     "data": {
      "text/plain": [
       "3"
      ]
     },
     "execution_count": 6,
     "metadata": {},
     "output_type": "execute_result"
    }
   ],
   "source": [
    "len(N[f]) # Degree"
   ]
  },
  {
   "cell_type": "code",
   "execution_count": 7,
   "metadata": {},
   "outputs": [
    {
     "data": {
      "text/plain": [
       "2"
      ]
     },
     "execution_count": 7,
     "metadata": {},
     "output_type": "execute_result"
    }
   ],
   "source": [
    "N[a][b] # edge weight for (a,b)"
   ]
  },
  {
   "cell_type": "code",
   "execution_count": 8,
   "metadata": {},
   "outputs": [],
   "source": [
    "# dict with adjacency set\n",
    "N = {\n",
    "    'a': set('bcdef'),\n",
    "    'b': set('ce'),\n",
    "    'c': set('d'),\n",
    "    'd': set('f'),\n",
    "    'e': set('f'),\n",
    "    'f': set('cgh'),\n",
    "    'g': set('fh'),\n",
    "    'h': set('fg')\n",
    "}"
   ]
  },
  {
   "cell_type": "code",
   "execution_count": 12,
   "metadata": {},
   "outputs": [
    {
     "data": {
      "text/plain": [
       "{'b', 'c', 'd', 'e', 'f'}"
      ]
     },
     "execution_count": 12,
     "metadata": {},
     "output_type": "execute_result"
    }
   ],
   "source": [
    "N['a']"
   ]
  },
  {
   "cell_type": "code",
   "execution_count": 13,
   "metadata": {},
   "outputs": [],
   "source": [
    "# adjacency matrix implemented with nested lists\n",
    "a, b, c, d, e, f, g, h = range(8)\n",
    "\n",
    "N = [\n",
    "    [0,1,1,1,1,1,0,0],  # a\n",
    "    [0,0,1,0,1,0,0,0],  # b\n",
    "    [0,0,0,1,0,0,0,0],  # c\n",
    "    [0,1,1,1,1,1,0,0],  # d\n",
    "    [0,0,0,0,0,1,0,0],  # e\n",
    "    [0,0,1,0,0,0,1,1],  # f\n",
    "    [0,0,0,0,0,1,0,1],  # g\n",
    "    [0,0,0,0,0,1,1,0],  # h\n",
    "]"
   ]
  },
  {
   "cell_type": "code",
   "execution_count": 14,
   "metadata": {},
   "outputs": [
    {
     "data": {
      "text/plain": [
       "1"
      ]
     },
     "execution_count": 14,
     "metadata": {},
     "output_type": "execute_result"
    }
   ],
   "source": [
    "N[a][b]"
   ]
  },
  {
   "cell_type": "code",
   "execution_count": 16,
   "metadata": {},
   "outputs": [
    {
     "data": {
      "text/plain": [
       "3"
      ]
     },
     "execution_count": 16,
     "metadata": {},
     "output_type": "execute_result"
    }
   ],
   "source": [
    "sum(N[f])"
   ]
  },
  {
   "cell_type": "code",
   "execution_count": null,
   "metadata": {},
   "outputs": [],
   "source": []
  }
 ],
 "metadata": {
  "kernelspec": {
   "display_name": ".venv",
   "language": "python",
   "name": "python3"
  },
  "language_info": {
   "codemirror_mode": {
    "name": "ipython",
    "version": 3
   },
   "file_extension": ".py",
   "mimetype": "text/x-python",
   "name": "python",
   "nbconvert_exporter": "python",
   "pygments_lexer": "ipython3",
   "version": "3.11.9"
  }
 },
 "nbformat": 4,
 "nbformat_minor": 2
}
